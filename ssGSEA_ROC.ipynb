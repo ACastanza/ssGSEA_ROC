{
 "cells": [
  {
   "cell_type": "markdown",
   "metadata": {},
   "source": [
    "# Calculation of AUROCs from Single-sample GSEA projection (ssGSEA)"
   ]
  },
  {
   "cell_type": "markdown",
   "metadata": {},
   "source": [
    "## Background"
   ]
  },
  {
   "cell_type": "markdown",
   "metadata": {},
   "source": [
    "Traditional gene set enrichment analysis assesses the differential coordinate up- or down-regulation of a biological process or pathway between groups of samples belonging to two phenotypes. The ability to assess that enrichment in individual samples, especially independently of pre-assigned phenotype labels, provides the opportunity to analyze transcription data at a higher level, by using gene sets/pathways instead of genes, resulting in a much more biologically interpretable set of features. Single-sample Gene Set Enrichment Analysis (ssGSEA) Projection accomplishes this."
   ]
  },
  {
   "cell_type": "markdown",
   "metadata": {},
   "source": [
    "**ssGSEA projects a single sample’s full gene expression profile into the space of gene sets**. It does this via *enrichment scores*, which represent the degree to which the genes in each particular gene set are coordinately up- or down- regulated within that sample.  \n",
    "\n",
    "Any supervised or unsupervised machine learning technique or other statistical analysis can then be applied to the resulting projected dataset. The benefit is that the **ssGSEA projection transforms the data to a higher-level (pathways instead of genes) space representing a more biologically interpretable set of features on which analytic methods can be applied.**\n",
    "\n",
    "In this notebook we will be using the ssGSEA scores and a binary phenotype to calculate the receiver operating characteristic (ROC) curves for each gene set, and the area under the ROC curve. This metric is useful for determining if the ennrichment score for a given gene set is capable of serving as a classification metric for the selected phenotype.\n",
    "Since ssGSEA scores are determined on a per-sample basis, and each sample is inndividually normalized (for example, by transcripts per million), once a gene set has been determined to be a good classifier, new samples can be classified based on their enrichment score if their true phenotype is unknown."
   ]
  },
  {
   "cell_type": "markdown",
   "metadata": {},
   "source": [
    "## Before you begin"
   ]
  },
  {
   "cell_type": "markdown",
   "metadata": {},
   "source": [
    "You must log in to a GenePattern server. In this notebook we will use **```GenePattern Cloud``` **\n",
    "\n",
    "Note: if you are not familiar with GenePattern Notebook features, you can revise them here: <a href=\"https://notebook.genepattern.org/services/sharing/notebooks/361/preview/\">GenePattern Notebook Tutorial</a>."
   ]
  },
  {
   "cell_type": "markdown",
   "metadata": {},
   "source": [
    "<div class=\"alert alert-info\">\n",
    "<p class=\"lead\"> Instructions <i class=\"fa fa-info-circle\"></i></p>\n",
    "Sign in to GenePattern by entering your username and password into the form below.\n",
    "</div>"
   ]
  },
  {
   "cell_type": "code",
   "execution_count": 28,
   "metadata": {
    "genepattern": {
     "name": "Login",
     "server": "https://beta.genepattern.org/gp",
     "show_code": true,
     "type": "auth"
    }
   },
   "outputs": [
    {
     "data": {
      "application/vnd.jupyter.widget-view+json": {
       "model_id": "1a1ac76a06cc4bea83f2ec05b3bdd5ef",
       "version_major": 2,
       "version_minor": 0
      },
      "text/plain": [
       "GPAuthWidget()"
      ]
     },
     "metadata": {},
     "output_type": "display_data"
    }
   ],
   "source": [
    "# Requires GenePattern Notebook: pip install genepattern-notebook\n",
    "import gp\n",
    "import genepattern\n",
    "\n",
    "# Username and password removed for security reasons.\n",
    "genepattern.display(genepattern.session.register(\"https://beta.genepattern.org/gp\", \"\", \"\"))"
   ]
  },
  {
   "cell_type": "markdown",
   "metadata": {},
   "source": [
    "## Project gene expression dataset into the space of selected gene sets"
   ]
  },
  {
   "cell_type": "markdown",
   "metadata": {},
   "source": [
    "We will use the GenePattern ssGSEA analysis to transform a gene expression dataset into a dataset where each row corresponds to a pathway, and each column is a sample. Each value in the new dataset will therefore represent the up- or downregulation of a pathway (row) within a sample (column)."
   ]
  },
  {
   "cell_type": "markdown",
   "metadata": {},
   "source": [
    "<div class=\"alert alert-info\">\n",
    "<p class=\"lead\"> Instructions <i class=\"fa fa-info-circle\"></i></p>\n",
    "\n",
    "Provide the required parameters for the ssGSEA module below.\n",
    "\n",
    "- For the **input gct file*** parameter, Provide a file in the [GCT format](https://genepattern.org/file-formats-guide#GCT')  \n",
    "     - For example: <a href=\"https://datasets.genepattern.org/data/ccmi_tutorial/2017-12-15/BRCA_HUGO_symbols.preprocessed.gct\" target=\"_blank\">BRCA_HUGO_symbols.preprocessed.gct</a>\n",
    "- For a detailed description of the parameters you can read the <a href='https://gsea-msigdb.github.io/ssGSEA-gpmodule/v10/index.html'>parameter documentation</a>.\n",
    "- For a description of the <strong><em>gene sets database files*</em></strong> parameter options, visit <a href=\"https://www.gsea-msigdb.org/gsea/msigdb/index.jsp\">the MSigDB webpage</a>.\n",
    "- Click <strong><em>Run</em></strong> on the analysis below.</li>\n",
    "</div>"
   ]
  },
  {
   "cell_type": "code",
   "execution_count": 30,
   "metadata": {
    "genepattern": {
     "param_values": {
      "combine.mode": null,
      "gene.set.selection": null,
      "gene.sets.database.files": null,
      "gene.symbol.column": null,
      "input.gct.file": null,
      "job.cpuCount": null,
      "job.memory": null,
      "job.queue": null,
      "job.walltime": null,
      "min.gene.set.size": null,
      "output.file.prefix": null,
      "sample.normalization.method": null,
      "weighting.exponent": null
     },
     "show_code": true,
     "type": "task"
    }
   },
   "outputs": [
    {
     "data": {
      "application/vnd.jupyter.widget-view+json": {
       "model_id": "d93984c766a24e9f8bf8c4306e6246d8",
       "version_major": 2,
       "version_minor": 0
      },
      "text/plain": [
       "GPTaskWidget(lsid='urn:lsid:broad.mit.edu:cancer.software.genepattern.module.analysis:00270')"
      ]
     },
     "metadata": {},
     "output_type": "display_data"
    },
    {
     "data": {
      "application/vnd.jupyter.widget-view+json": {
       "model_id": "b15923c59107426d8fcc7e33d2112060",
       "version_major": 2,
       "version_minor": 0
      },
      "text/plain": [
       "GPJobWidget(job_number=62643)"
      ]
     },
     "metadata": {},
     "output_type": "display_data"
    }
   ],
   "source": [
    "ssgsea_task = gp.GPTask(genepattern.session.get(0), 'urn:lsid:broad.mit.edu:cancer.software.genepattern.module.analysis:00270')\n",
    "ssgsea_job_spec = ssgsea_task.make_job_spec()\n",
    "ssgsea_job_spec.set_parameter(\"input.gct.file\", \"https://datasets.genepattern.org/data/ccmi_tutorial/2017-12-15/BRCA_HUGO_symbols.preprocessed.gct\")\n",
    "ssgsea_job_spec.set_parameter(\"output.file.prefix\", \"\")\n",
    "ssgsea_job_spec.set_parameter(\"gene.sets.database.files\", \"ftp://gpftp.broadinstitute.org/module_support_files/msigdb/gmt/c2.cp.wikipathways.v7.2.symbols.gmt\")\n",
    "ssgsea_job_spec.set_parameter(\"gene.symbol.column\", \"Name\")\n",
    "ssgsea_job_spec.set_parameter(\"gene.set.selection\", \"ALL\")\n",
    "ssgsea_job_spec.set_parameter(\"sample.normalization.method\", \"none\")\n",
    "ssgsea_job_spec.set_parameter(\"weighting.exponent\", \"0.75\")\n",
    "ssgsea_job_spec.set_parameter(\"min.gene.set.size\", \"10\")\n",
    "ssgsea_job_spec.set_parameter(\"combine.mode\", \"combine.off\")\n",
    "ssgsea_job_spec.set_parameter(\"job.memory\", \"2 Gb\")\n",
    "ssgsea_job_spec.set_parameter(\"job.queue\", \"gp-new-beta\")\n",
    "ssgsea_job_spec.set_parameter(\"job.cpuCount\", \"1\")\n",
    "ssgsea_job_spec.set_parameter(\"job.walltime\", \"02:00:00\")\n",
    "genepattern.display(ssgsea_task)\n",
    "\n",
    "job62643 = gp.GPJob(genepattern.session.get(0), 62643)\n",
    "genepattern.display(job62643)"
   ]
  },
  {
   "cell_type": "markdown",
   "metadata": {},
   "source": [
    "## Visualize projected pathways as a heat map"
   ]
  },
  {
   "cell_type": "markdown",
   "metadata": {},
   "source": [
    "We will use the GenePattern heat map viewer to visualize the resulting projection of genes into pathways."
   ]
  },
  {
   "cell_type": "markdown",
   "metadata": {},
   "source": [
    "<div class=\"alert alert-info\">\n",
    "<p class=\"lead\"> Instructions <i class=\"fa fa-info-circle\"></i></p>\n",
    "    \n",
    "- In the **dataset** parameter below, click on the dropdown and select output of the ssGSEA module (it should end with `.PROJ.gct`).\n",
    "- Click **Run**.\n",
    "</div>"
   ]
  },
  {
   "cell_type": "code",
   "execution_count": 32,
   "metadata": {
    "genepattern": {
     "param_values": {
      "dataset": null,
      "job.cpuCount": null,
      "job.memory": null,
      "job.queue": null,
      "job.walltime": null
     },
     "type": "task"
    },
    "scrolled": true
   },
   "outputs": [
    {
     "data": {
      "application/vnd.jupyter.widget-view+json": {
       "model_id": "e1c070a13ab14307bda08cdd8c494140",
       "version_major": 2,
       "version_minor": 0
      },
      "text/plain": [
       "GPTaskWidget(lsid='urn:lsid:broad.mit.edu:cancer.software.genepattern.module.visualizer:00010')"
      ]
     },
     "metadata": {},
     "output_type": "display_data"
    },
    {
     "data": {
      "application/vnd.jupyter.widget-view+json": {
       "model_id": "a935a52153664cf2829b18828f84eed5",
       "version_major": 2,
       "version_minor": 0
      },
      "text/plain": [
       "GPJobWidget(job_number=62644)"
      ]
     },
     "metadata": {},
     "output_type": "display_data"
    }
   ],
   "source": [
    "heatmapviewer_task = gp.GPTask(genepattern.session.get(0), 'urn:lsid:broad.mit.edu:cancer.software.genepattern.module.visualizer:00010')\n",
    "heatmapviewer_job_spec = heatmapviewer_task.make_job_spec()\n",
    "heatmapviewer_job_spec.set_parameter(\"dataset\", \"https://beta.genepattern.org/gp/jobResults/62643/BRCA_HUGO_symbols.preprocessed.PROJ.gct\")\n",
    "genepattern.display(heatmapviewer_task)\n",
    "\n",
    "job62644 = gp.GPJob(genepattern.session.get(0), 62644)\n",
    "genepattern.display(job62644)"
   ]
  },
  {
   "cell_type": "markdown",
   "metadata": {},
   "source": [
    "## Calculate the ROC for each gene set from the ssGSEA projections and a two-phenotype CLS file"
   ]
  },
  {
   "cell_type": "markdown",
   "metadata": {},
   "source": [
    "<div class=\"alert alert-info\">\n",
    "<p class=\"lead\"> Instructions <i class=\"fa fa-info-circle\"></i></p>\n",
    "    \n",
    "For the <b>ssGSEA Projection Matrix</b> parameter, click the \"Add File or URL...\" box and select output of the ssGSEA module (it should end with `.PROJ.gct`).\n",
    "\n",
    "For the <b>Two phenotype CLS file</b> parameter, click the \"Upload File...\" button to provide the CLS file with the phenotypic information (<a href=\"http://software.broadinstitute.org/cancer/software/genepattern/file-formats-guide#CLS\">read about CLS files here</a>).<br>Alternatively, drag and drop <a href=\"https://datasets.genepattern.org/data/module_support_files/DESeq2/BRCA_tumor_and_normal_x40.cls\" target=\"_blank\">this sample CLS file</a>."
   ]
  },
  {
   "cell_type": "code",
   "execution_count": 29,
   "metadata": {
    "genepattern": {
     "description": "Generate ROC curves and calculate the AUC from ssGSEA results and a binary phenotype classification.",
     "name": "ssGSEA_ROC",
     "param_values": {
      "CLS": null,
      "PROJ.gct": null,
      "Plot.Top.Results": null,
      "Reverse": null,
      "job.cpuCount": null,
      "job.memory": null,
      "job.queue": null,
      "job.walltime": null
     },
     "type": "task"
    }
   },
   "outputs": [
    {
     "data": {
      "application/vnd.jupyter.widget-view+json": {
       "model_id": "8f8fe2d6b362406dbc8b2d76e6b162f7",
       "version_major": 2,
       "version_minor": 0
      },
      "text/plain": [
       "GPTaskWidget(lsid='urn:lsid:8080.gpserver.ip-172-31-26-71.ip-172-31-26-71.ec2.internal:genepatternmodules:177'…"
      ]
     },
     "metadata": {},
     "output_type": "display_data"
    },
    {
     "data": {
      "application/vnd.jupyter.widget-view+json": {
       "model_id": "f66b2a8de8e244698849dbb7773d7f19",
       "version_major": 2,
       "version_minor": 0
      },
      "text/plain": [
       "GPJobWidget(job_number=62651)"
      ]
     },
     "metadata": {},
     "output_type": "display_data"
    }
   ],
   "source": [
    "ssgsea_roc_task = gp.GPTask(genepattern.session.get(0), 'urn:lsid:8080.gpserver.ip-172-31-26-71.ip-172-31-26-71.ec2.internal:genepatternmodules:177')\n",
    "ssgsea_roc_job_spec = ssgsea_roc_task.make_job_spec()\n",
    "ssgsea_roc_job_spec.set_parameter(\"PROJ.gct\", \"https://beta.genepattern.org/gp/jobResults/62643/BRCA_HUGO_symbols.preprocessed.PROJ.gct\")\n",
    "ssgsea_roc_job_spec.set_parameter(\"CLS\", \"https://beta.genepattern.org/gp/users/acastanza/tmp/run6706559141305188871.tmp/BRCA_tumor_and_normal_x40.cls\")\n",
    "ssgsea_roc_job_spec.set_parameter(\"Reverse\", \"TRUE\")\n",
    "ssgsea_roc_job_spec.set_parameter(\"Plot.Top.Results\", \"443\")\n",
    "ssgsea_roc_job_spec.set_parameter(\"job.memory\", \"2 Gb\")\n",
    "ssgsea_roc_job_spec.set_parameter(\"job.queue\", \"gp-new-beta\")\n",
    "ssgsea_roc_job_spec.set_parameter(\"job.cpuCount\", \"1\")\n",
    "ssgsea_roc_job_spec.set_parameter(\"job.walltime\", \"02:00:00\")\n",
    "genepattern.display(ssgsea_roc_task)\n",
    "\n",
    "job62651 = gp.GPJob(genepattern.session.get(0), 62651)\n",
    "genepattern.display(job62651)"
   ]
  },
  {
   "cell_type": "markdown",
   "metadata": {},
   "source": [
    "# References"
   ]
  },
  {
   "cell_type": "markdown",
   "metadata": {},
   "source": [
    "- Subramanian A, Tamayo P, Mootha VK, Mukherjee S, Ebert BL, Gillette MA, Paulovich A, Pomeroy SL, Golub TR, Lander ES, Mesirov JP. Gene set enrichment analysis: A knowledge-based approach for interpreting genome-wide expression profiles. PNAS. 2005;102(43):15545-15550. http://www.pnas.org/content/102/43/15545.abstract\n",
    "- Barbie DA, Tamayo P, et al. Systematic RNA interference reveals that oncogenic KRAS-driven cancers require TBK1. Nature. 2009;462:108-112. https://pubmed.ncbi.nlm.nih.gov/19847166/\n",
    "- MSigDB website (https://www.gsea-msigdb.org/gsea/msigdb/index.jsp)\n",
    "- GSEA website (https://www.gsea-msigdb.org/gsea/index.jsp)\n",
    "- Sing T, Sander O, Beerenwinkel N, Lengauer T. ROCR: visualizing classifier performance in R. Bioinformatics. 2005;21(20):3940-3941. https://pubmed.ncbi.nlm.nih.gov/16096348/\n"
   ]
  }
 ],
 "metadata": {
  "kernelspec": {
   "display_name": "Python 3.7",
   "language": "python",
   "name": "python3.7"
  },
  "language_info": {
   "codemirror_mode": {
    "name": "ipython",
    "version": 3
   },
   "file_extension": ".py",
   "mimetype": "text/x-python",
   "name": "python",
   "nbconvert_exporter": "python",
   "pygments_lexer": "ipython3",
   "version": "3.7.8"
  },
  "toc": {
   "base_numbering": 1,
   "nav_menu": {},
   "number_sections": false,
   "sideBar": true,
   "skip_h1_title": false,
   "title_cell": "Table of Contents",
   "title_sidebar": "Contents",
   "toc_cell": false,
   "toc_position": {
    "height": "calc(100% - 180px)",
    "left": "10px",
    "top": "150px",
    "width": "384px"
   },
   "toc_section_display": true,
   "toc_window_display": true
  }
 },
 "nbformat": 4,
 "nbformat_minor": 4
}
